{
  "nbformat": 4,
  "nbformat_minor": 0,
  "metadata": {
    "colab": {
      "provenance": [],
      "authorship_tag": "ABX9TyPfxlHA3L4mcAzEP5ou/ELQ",
      "include_colab_link": true
    },
    "kernelspec": {
      "name": "python3",
      "display_name": "Python 3"
    },
    "language_info": {
      "name": "python"
    }
  },
  "cells": [
    {
      "cell_type": "markdown",
      "metadata": {
        "id": "view-in-github",
        "colab_type": "text"
      },
      "source": [
        "<a href=\"https://colab.research.google.com/github/Fikrimaulana25/Lat_Apriori_fikri/blob/main/Akurasi.ipynb\" target=\"_parent\"><img src=\"https://colab.research.google.com/assets/colab-badge.svg\" alt=\"Open In Colab\"/></a>"
      ]
    },
    {
      "cell_type": "code",
      "execution_count": null,
      "metadata": {
        "id": "tTSuMO_ArxB2"
      },
      "outputs": [],
      "source": [
        "# import pustaka\n",
        "import numpy as np\n",
        "from sklearn.metrics import accuracy_score\n",
        "from sklearn.metrics import classification_report\n",
        "# data prediksi dan target\n",
        "target=[1,1,1,1,1,1,1,0,0,0,0,0,0]\n",
        "prediksi=[1,1,1,1,1,0,1,0,0,0,0,0,0]\n",
        "# mengetahui akurasi\n",
        "print(classification_report(target,prediksi))\n",
        "akurasi=accuracy_score(target,prediksi)\n",
        "print(\"Akurasi : \",round(akurasi,2))"
      ]
    }
  ]
}